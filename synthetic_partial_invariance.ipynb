{
  "nbformat": 4,
  "nbformat_minor": 0,
  "metadata": {
    "colab": {
      "provenance": []
    },
    "kernelspec": {
      "name": "python3",
      "display_name": "Python 3"
    },
    "language_info": {
      "name": "python"
    }
  },
  "cells": [
    {
      "cell_type": "code",
      "execution_count": 1,
      "metadata": {
        "id": "7ktmxTyzMfdM"
      },
      "outputs": [],
      "source": [
        "import numpy as np\n",
        "import torch\n",
        "from scipy.stats import ortho_group"
      ]
    },
    {
      "cell_type": "code",
      "source": [
        "### more helpers\n",
        "\n",
        "from torch.utils.data import Dataset, DataLoader\n",
        "from torch import nn\n",
        "from torch.optim import Adam\n",
        "from torch import autograd\n",
        "import time\n",
        "import argparse\n",
        "import random\n",
        "import copy\n",
        "from argparse import Namespace"
      ],
      "metadata": {
        "id": "IXmuugD2c0dQ"
      },
      "execution_count": 2,
      "outputs": []
    },
    {
      "cell_type": "code",
      "source": [
        "i = 230\n",
        "\n",
        "torch.random.manual_seed(i)\n",
        "torch.manual_seed(i)\n",
        "random.seed(i)\n",
        "np.random.seed(i)\n",
        "torch.backends.cudnn.deterministic = True\n",
        "torch.backends.cudnn.benchmark = False"
      ],
      "metadata": {
        "id": "k_fj0nQ2nsoA"
      },
      "execution_count": 3,
      "outputs": []
    },
    {
      "cell_type": "code",
      "source": [
        "def create_generative_model(e_tr, x_dim = 10, heteroskedastic = False, scrambled = False, partially_obs = False):\n",
        "    \n",
        "    list_envs = []\n",
        "    if partially_obs:\n",
        "        w_h_x = np.random.normal(size=(2, x_dim, x_dim))/x_dim\n",
        "        w_h_y = np.random.normal(size=(x_dim, 1))/np.sqrt(x_dim)\n",
        "    else:\n",
        "        w_h_x = np.zeros((2, x_dim, x_dim))\n",
        "        w_h_y = np.zeros((x_dim, 1))\n",
        "    \n",
        "    if scrambled:\n",
        "        S = ortho_group.rvs(dim=2*x_dim)\n",
        "    else:\n",
        "        S = np.eye(x_dim*2)\n",
        "\n",
        "    ### create env weights\n",
        "    w_x_y = np.random.normal(size=(2, x_dim, 1))/np.sqrt(x_dim)\n",
        "    c_e = [0. for i in range(len(e_tr)//2)] + [1. for i in range(len(e_tr)//2)]\n",
        "    random.shuffle(c_e)\n",
        "    index=0\n",
        "    for e in e_tr:\n",
        "        \n",
        "        w_x_y_e = w_x_y.copy()\n",
        "\n",
        "        if heteroskedastic:\n",
        "            sigma_y = 1\n",
        "            sigma_2 = e\n",
        "        else:\n",
        "            sigma_y = e\n",
        "            sigma_2 = 1\n",
        "        \n",
        "        b = c_e[index]\n",
        "        index+=1\n",
        "        w_x_y_e[1] = w_x_y_e[1]*b\n",
        "        \n",
        "        ## irm generative model\n",
        "        # h_e = np.random.normal(scale=e, size=(1000, x_dim))\n",
        "        # z_1 = np.random.normal(scale=e, size=(1000, x_dim)) + h_e @ w_h_x[0]\n",
        "        # #a =  h_e @ w_h_y\n",
        "        # #print(z_1.shape)\n",
        "        # y = z_1 @ w_x_y[0] + np.random.normal(scale=sigma_y, size=(1000, 1))+ h_e @ w_h_y\n",
        "        # #print((w_x_y[1]*y.reshape(-1)).shape)\n",
        "        # z_2 = (w_x_y[1]*y.reshape(-1)).T + np.random.normal(scale=sigma_2, size=(1000, x_dim)) + h_e @ w_h_x[1]\n",
        "\n",
        "        ### p-irm generative model\n",
        "        h_e = np.random.normal(scale=e, size=(1000, x_dim))\n",
        "        z_1 = np.random.normal(scale=e, size=(1000, x_dim)) + h_e @ w_h_x[0]\n",
        "        z_2 = np.random.normal(scale=e, size=(1000, x_dim)) + h_e @ w_h_x[1]\n",
        "        #a =  h_e @ w_h_y\n",
        "        #print(z_1.shape)\n",
        "        y = z_1 @ w_x_y_e[0] + z_2 @ w_x_y_e[1] + np.random.normal(scale=sigma_y, size=(1000, 1))+ h_e @ w_h_y\n",
        "        #print((w_x_y[1]*y.reshape(-1)).shape)\n",
        "        #z_2 = (w_x_y[1]*y.reshape(-1)).T + np.random.normal(scale=sigma_2, size=(1000, x_dim)) + h_e @ w_h_x[1]\n",
        "\n",
        "        Z_concat = np.concatenate((z_1, z_2), axis=1).T\n",
        "        #print(Z_concat.shape)\n",
        "\n",
        "        X = S.dot(Z_concat).T\n",
        "        print(X.shape)\n",
        "        list_envs.append((X, y, S, w_x_y_e, w_h_x))\n",
        "\n",
        "    return list_envs"
      ],
      "metadata": {
        "id": "C4RjnIIMRXx6"
      },
      "execution_count": 4,
      "outputs": []
    },
    {
      "cell_type": "code",
      "source": [
        "### model/training code\n",
        "\n",
        "class linear(torch.nn.Module):\n",
        "\n",
        "    def __init__(self, input_dim=20, output_dim=1):\n",
        "\n",
        "        super(linear, self).__init__()\n",
        "\n",
        "        layers = []\n",
        "\n",
        "        layers.append(nn.Linear(input_dim, output_dim, bias=True))\n",
        "\n",
        "        #if(phi_dim > 1):\n",
        "        #    layers.append(nn.Linear(phi_dim, output_dim)) \n",
        "\n",
        "        self.net = nn.Sequential(*layers)\n",
        "\n",
        "    def forward(self, x):\n",
        "      \n",
        "      return self.net(x)\n",
        "\n",
        "\n",
        "def penalty(out, y, criterion, device):\n",
        "    scale = torch.tensor(1.).to(device).requires_grad_()\n",
        "    loss = criterion(out * scale, y)\n",
        "    grad = autograd.grad(loss, [scale], create_graph=True)[0]\n",
        "    return torch.sum(grad**2)\n",
        "\n",
        "\n",
        "def train_model(envs, model, optim, args):\n",
        "\n",
        "    p_weight = args.penalty_weight\n",
        "    penalty_anneal_epoch = args.penalty_anneal_epoch\n",
        "    method = args.method\n",
        "    criterion = args.loss_fxn\n",
        "    pen_criterion = args.pen_criterion\n",
        "    epochs = args.epochs\n",
        "    print_step = args.print_step\n",
        "\n",
        "    use_cuda = torch.cuda.is_available()\n",
        "    device = torch.device(\"cuda\" if use_cuda else \"cpu\")\n",
        "    \n",
        "    model = model.to(device)\n",
        "    optimizer = optim    \n",
        "    d_num = len(envs)\n",
        "    \n",
        "    train_loss_ls = []\n",
        "    min_loss = 1e2 \n",
        "\n",
        "    print(\"number of envs: \", d_num)\n",
        "    max_val = 0\n",
        "    \n",
        "    \n",
        "    model.train()\n",
        "    model.to(torch.float)\n",
        "\n",
        "    for epoch in range(epochs):\n",
        "        \n",
        "        #val_acc_ls_epoch = []\n",
        "        #train_acc_ls_epoch = []\n",
        "        train_loss_ls_epoch = []\n",
        "\n",
        "        if(epoch == 0):\n",
        "            print(\"Training Model\")    \n",
        "            print(\"Method: \", args.method)\n",
        "\n",
        "        #print(\"Epoch: \", epoch)    \n",
        "        num_samples = 0\n",
        "        for i in range(d_num):\n",
        "\n",
        "            train_input = torch.from_numpy(envs[i][\"data\"]).to(device).to(torch.float)\n",
        "            train_label = torch.from_numpy(envs[i][\"label\"]).to(device).to(torch.float)\n",
        "            \n",
        "            output = model(train_input)\n",
        "\n",
        "            ### reduction = sum\n",
        "            num_samples += train_input.size(0) \n",
        "            envs[i]['loss'] = criterion(output, train_label)\n",
        "            #envs[i]['acc'] = mean_accuracy(logits, train_label)\n",
        "            envs[i]['penalty'] = penalty(output, train_label, pen_criterion, device)\n",
        "\n",
        "        train_loss = (torch.stack([envs[i]['loss'] for i in range(d_num)]).sum())/num_samples\n",
        "        train_loss_ls.append(train_loss.item())\n",
        "\n",
        "        if method == 'irm':\n",
        "            \n",
        "            train_penalty = torch.stack([envs[i]['penalty'] for i in range(d_num) if (envs[i]['penalty_condition'] == True)]).mean()\n",
        "            penalty_weight = (p_weight if epoch >= penalty_anneal_epoch else 0.)\n",
        "            train_loss += penalty_weight * train_penalty\n",
        "            if penalty_weight > 1.0:\n",
        "                train_loss /= penalty_weight\n",
        "        elif method == 'erm':\n",
        "            penalty_weight = 0.\n",
        "\n",
        "            ### set penalty to 0\n",
        "            train_penalty = envs[d_num[0]]['penalty'] * 0.  # so that this term is a tensor\n",
        "        else:\n",
        "            raise NotImplementedError    \n",
        "\n",
        "        model.zero_grad()\n",
        "        train_loss.backward()\n",
        "        optimizer.step()      \n",
        "\n",
        "        if (epoch+1) % (print_step) == 0 or (epoch+1) == penalty_anneal_epoch:\n",
        "            print(f'Epoch: {epoch+1} | Training Loss: {train_loss_ls[epoch]:.3f}')\n",
        "            print(train_penalty)\n",
        "            feat_vec = model.net[0].weight.detach().clone().to(\"cpu\").numpy().T\n",
        "            print(\"norm_feat_1:\", np.linalg.norm(feat_vec[:10]))\n",
        "            print(\"norm_feat_2:\", np.linalg.norm(feat_vec[10:]))\n",
        "\n",
        "    return train_loss_ls[-1], model.net[0].weight.detach().clone().to(\"cpu\").numpy().T"
      ],
      "metadata": {
        "id": "5JmHWY-Bc_s1"
      },
      "execution_count": 5,
      "outputs": []
    },
    {
      "cell_type": "code",
      "source": [
        "def get_performance(train_envs, opt, seeds=3, method = 'irm'):\n",
        "\n",
        "    opt.method = method\n",
        "    train_losses = []\n",
        "    feat_vectors = []\n",
        "\n",
        "    for i in range(seeds):\n",
        "\n",
        "        #torch.random.manual_seed(i)\n",
        "        \n",
        "        #my_model = feedforward(num_hiddenlayers=opt.hidden_layers, hidden_width=opt.hidden_width)\n",
        "        my_model = linear(input_dim=opt.x_dim*2)\n",
        "        optimizer = torch.optim.Adam(my_model.parameters(), lr=1e-2)\n",
        "        train_loss, feature_vector = train_model(train_envs, my_model, optimizer, opt)\n",
        "\n",
        "        feat_vectors.append(feature_vector)\n",
        "\n",
        "    return train_losses, feat_vectors"
      ],
      "metadata": {
        "id": "XkCWWZRlu313"
      },
      "execution_count": 6,
      "outputs": []
    },
    {
      "cell_type": "code",
      "source": [
        "#np.random.seed(230)\n",
        "#torch.manual_seed(230)\n",
        "\n",
        "my_list = create_generative_model({0.2, 1, 2, 5})\n",
        "\n",
        "my_train_envs = []\n",
        "for i in my_list:\n",
        "  my_dict = {}\n",
        "  my_dict[\"data\"] = i[0]\n",
        "  my_dict[\"label\"] = i[1]\n",
        "  my_dict[\"S\"] = i[2]\n",
        "  my_dict[\"true_wts\"] = i[3]\n",
        "  my_dict[\"penalty_condition\"] = True\n",
        "\n",
        "  my_train_envs.append(my_dict)"
      ],
      "metadata": {
        "colab": {
          "base_uri": "https://localhost:8080/"
        },
        "id": "TnIkUTGTkuDh",
        "outputId": "c41f1608-42bf-4c4c-a6e9-1037f697bf00"
      },
      "execution_count": 7,
      "outputs": [
        {
          "output_type": "stream",
          "name": "stdout",
          "text": [
            "(1000, 20)\n",
            "(1000, 20)\n",
            "(1000, 20)\n",
            "(1000, 20)\n"
          ]
        }
      ]
    },
    {
      "cell_type": "code",
      "source": [
        "for i in my_train_envs:\n",
        "  wts = i[\"true_wts\"]\n",
        "  print(\"norm_feat_1:\", np.linalg.norm(wts[0]))\n",
        "  print(\"norm_feat_2:\", np.linalg.norm(wts[1]))"
      ],
      "metadata": {
        "colab": {
          "base_uri": "https://localhost:8080/"
        },
        "id": "ilRi_HT278ir",
        "outputId": "0ef85c56-3597-4ed7-8a8a-7bd1bd1e9316"
      },
      "execution_count": 8,
      "outputs": [
        {
          "output_type": "stream",
          "name": "stdout",
          "text": [
            "norm_feat_1: 1.0190515812794492\n",
            "norm_feat_2: 1.232877303258899\n",
            "norm_feat_1: 1.0190515812794492\n",
            "norm_feat_2: 0.0\n",
            "norm_feat_1: 1.0190515812794492\n",
            "norm_feat_2: 1.232877303258899\n",
            "norm_feat_1: 1.0190515812794492\n",
            "norm_feat_2: 0.0\n"
          ]
        }
      ]
    },
    {
      "cell_type": "code",
      "source": [
        "opt = Namespace()\n",
        "opt.penalty_weight = 1e3\n",
        "opt.x_dim = 10\n",
        "#opt.penalty_anneal_epoch = 1000'\n",
        "#opt.method = 'irm'\n",
        "opt.loss_fxn = torch.nn.MSELoss(reduction='sum')\n",
        "opt.epochs = 40000\n",
        "opt.pen_criterion = torch.nn.MSELoss(reduction='mean')\n",
        "opt.print_step = 40000\n",
        "opt.penalty_anneal_epoch = 4000"
      ],
      "metadata": {
        "id": "c1IDmeFFw2qO"
      },
      "execution_count": 9,
      "outputs": []
    },
    {
      "cell_type": "code",
      "source": [
        "#np.random.seed(230)\n",
        "#torch.manual_seed(230)\n",
        "\n",
        "act_norm = []\n",
        "learned_norm = []\n",
        "\n",
        "for seed in range(5):\n",
        "  \n",
        "  my_list = create_generative_model({0.2, 1, 2, 5})\n",
        "  my_train_envs = []\n",
        "  ct=0\n",
        "  for i in my_list:\n",
        "      my_dict = {}\n",
        "      my_dict[\"data\"] = i[0]\n",
        "      my_dict[\"label\"] = i[1]\n",
        "      my_dict[\"S\"] = i[2]\n",
        "      my_dict[\"true_wts\"] = i[3]\n",
        "      my_dict[\"penalty_condition\"] = True\n",
        "\n",
        "      my_train_envs.append(my_dict)\n",
        "  \n",
        "  for i in my_train_envs:\n",
        "      wts = i[\"true_wts\"]\n",
        "      # print(\"norm_feat_1:\", np.linalg.norm(wts[0]))\n",
        "      # print(\"norm_feat_2:\", np.linalg.norm(wts[1]))\n",
        "\n",
        "  for j in my_train_envs:\n",
        "    wts = j[\"true_wts\"]\n",
        "    feat_1_norm = np.linalg.norm(wts[0])\n",
        "    feat_2_norm = np.linalg.norm(wts[1])\n",
        "\n",
        "    if(feat_2_norm>0 and ct==0):\n",
        "      act_norm.append((feat_1_norm, feat_2_norm))\n",
        "      ct += 1\n",
        "  \n",
        "  # else:\n",
        "  a, b = get_performance(my_train_envs, opt, seeds=1, method='irm')\n",
        "  learned_norm.append((np.linalg.norm(b[0][:10]), np.linalg.norm(b[0][10:])))\n",
        "\n",
        "  print(\"ratio 1:\", learned_norm[-1][0]/act_norm[-1][0])\n",
        "  print(\"ratio 2:\", learned_norm[-1][1]/act_norm[-1][1])"
      ],
      "metadata": {
        "colab": {
          "base_uri": "https://localhost:8080/"
        },
        "id": "njEKgUfP0UPH",
        "outputId": "19853636-c093-4261-cd36-eb5b1776d215"
      },
      "execution_count": 10,
      "outputs": [
        {
          "output_type": "stream",
          "name": "stdout",
          "text": [
            "(1000, 20)\n",
            "(1000, 20)\n",
            "(1000, 20)\n",
            "(1000, 20)\n",
            "number of envs:  4\n",
            "Training Model\n",
            "Method:  irm\n",
            "Epoch: 4000 | Training Loss: 8.137\n",
            "tensor(19.3856, grad_fn=<MeanBackward0>)\n",
            "norm_feat_1: 1.0879968\n",
            "norm_feat_2: 0.7862485\n",
            "Epoch: 40000 | Training Loss: 13.090\n",
            "tensor(3.0260e-06, grad_fn=<MeanBackward0>)\n",
            "norm_feat_1: 1.0301751\n",
            "norm_feat_2: 0.22118486\n",
            "ratio 1: 0.9463308961048553\n",
            "ratio 2: 0.22749294367821862\n",
            "(1000, 20)\n",
            "(1000, 20)\n",
            "(1000, 20)\n",
            "(1000, 20)\n",
            "number of envs:  4\n",
            "Training Model\n",
            "Method:  irm\n",
            "Epoch: 4000 | Training Loss: 8.023\n",
            "tensor(24.6172, grad_fn=<MeanBackward0>)\n",
            "norm_feat_1: 1.0093901\n",
            "norm_feat_2: 1.0148733\n",
            "Epoch: 40000 | Training Loss: 16.788\n",
            "tensor(5.9927e-05, grad_fn=<MeanBackward0>)\n",
            "norm_feat_1: 0.97612756\n",
            "norm_feat_2: 0.24542104\n",
            "ratio 1: 0.9671293103021358\n",
            "ratio 2: 0.22073402585632415\n",
            "(1000, 20)\n",
            "(1000, 20)\n",
            "(1000, 20)\n",
            "(1000, 20)\n",
            "number of envs:  4\n",
            "Training Model\n",
            "Method:  irm\n",
            "Epoch: 4000 | Training Loss: 7.397\n",
            "tensor(0.0008, grad_fn=<MeanBackward0>)\n",
            "norm_feat_1: 0.5735995\n",
            "norm_feat_2: 0.06495551\n",
            "Epoch: 40000 | Training Loss: 7.412\n",
            "tensor(4.1909e-08, grad_fn=<MeanBackward0>)\n",
            "norm_feat_1: 0.5775914\n",
            "norm_feat_2: 0.046560112\n",
            "ratio 1: 0.9390192803035587\n",
            "ratio 2: 0.052671003252861795\n",
            "(1000, 20)\n",
            "(1000, 20)\n",
            "(1000, 20)\n",
            "(1000, 20)\n",
            "number of envs:  4\n",
            "Training Model\n",
            "Method:  irm\n",
            "Epoch: 4000 | Training Loss: 8.082\n",
            "tensor(0.0028, grad_fn=<MeanBackward0>)\n",
            "norm_feat_1: 0.5757536\n",
            "norm_feat_2: 0.057374235\n",
            "Epoch: 40000 | Training Loss: 8.110\n",
            "tensor(0.0006, grad_fn=<MeanBackward0>)\n",
            "norm_feat_1: 0.5718098\n",
            "norm_feat_2: 0.059194893\n",
            "ratio 1: 0.9944723737038194\n",
            "ratio 2: 0.07866205068343515\n",
            "(1000, 20)\n",
            "(1000, 20)\n",
            "(1000, 20)\n",
            "(1000, 20)\n",
            "number of envs:  4\n",
            "Training Model\n",
            "Method:  irm\n",
            "Epoch: 4000 | Training Loss: 7.987\n",
            "tensor(0.0105, grad_fn=<MeanBackward0>)\n",
            "norm_feat_1: 1.4221737\n",
            "norm_feat_2: 0.09342203\n",
            "Epoch: 40000 | Training Loss: 8.116\n",
            "tensor(0.0035, grad_fn=<MeanBackward0>)\n",
            "norm_feat_1: 1.4224899\n",
            "norm_feat_2: 0.0941463\n",
            "ratio 1: 1.0187684636346943\n",
            "ratio 2: 0.10986166868797573\n"
          ]
        }
      ]
    },
    {
      "cell_type": "code",
      "source": [
        "ratios_1 = []\n",
        "ratios_2 = []\n",
        "for seed in range(5):\n",
        "    ratios_1.append(learned_norm[seed][0]/act_norm[seed][0])\n",
        "    ratios_2.append(learned_norm[seed][1]/act_norm[seed][1])"
      ],
      "metadata": {
        "id": "-0rJyg3l4ERK"
      },
      "execution_count": 11,
      "outputs": []
    },
    {
      "cell_type": "code",
      "source": [
        "materials = ['feature_1 (invariant)', 'feature_2 (non-invariant)']\n",
        "x_pos = np.arange(len(materials))\n",
        "CTEs = [np.mean(ratios_1), np.mean(ratios_2)]\n",
        "error = [np.std(ratios_1), np.std(ratios_2)]"
      ],
      "metadata": {
        "id": "5huqZg-e5cE1"
      },
      "execution_count": 12,
      "outputs": []
    },
    {
      "cell_type": "code",
      "source": [
        "import matplotlib.pyplot as plt\n",
        "\n",
        "# creating the bar plot\n",
        "fig, ax = plt.subplots(figsize = (4.5, 4.5))\n",
        "ax.bar(x_pos, CTEs, yerr=error, align='center', alpha=0.5, ecolor='black', capsize=10, width=0.4)\n",
        "ax.set_ylabel('Ratio of Feature Weight Norm (Learnt over Actual)')\n",
        "ax.set_xticks(x_pos)\n",
        "ax.set_xticklabels(materials)\n",
        "ax.set_title('Demonstration of IRM supressing non-invariant features')\n",
        "ax.yaxis.grid(True)\n",
        "\n",
        "# Save the figure and show\n",
        "plt.tight_layout()\n",
        "#plt.savefig('bar_plot_with_error_bars.png')\n",
        "plt.show()"
      ],
      "metadata": {
        "colab": {
          "base_uri": "https://localhost:8080/",
          "height": 333
        },
        "id": "S0Ri-3Jr4x9T",
        "outputId": "58e7c656-57d7-4e10-a060-d19faac48347"
      },
      "execution_count": 13,
      "outputs": [
        {
          "output_type": "display_data",
          "data": {
            "text/plain": [
              "<Figure size 324x324 with 1 Axes>"
            ],
            "image/png": "[encoded data removed]"
          },
          "metadata": {
            "needs_background": "light"
          }
        }
      ]
    }
  ]
}