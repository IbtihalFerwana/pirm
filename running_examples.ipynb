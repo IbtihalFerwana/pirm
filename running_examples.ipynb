{
  "nbformat": 4,
  "nbformat_minor": 0,
  "metadata": {
    "colab": {
      "name": "running_examples.ipynb",
      "provenance": [],
      "machine_shape": "hm"
    },
    "kernelspec": {
      "name": "python3",
      "display_name": "Python 3"
    },
    "language_info": {
      "name": "python"
    },
    "accelerator": "GPU"
  },
  "cells": [
    {
      "cell_type": "code",
      "execution_count": 2,
      "metadata": {
        "colab": {
          "base_uri": "https://localhost:8080/"
        },
        "id": "eP3LHJzoIFH-",
        "outputId": "b427e0ba-c6b8-40f9-9a49-a9bbc8fa560f"
      },
      "outputs": [
        {
          "output_type": "stream",
          "name": "stdout",
          "text": [
            "Mounted at /content/drive\n"
          ]
        }
      ],
      "source": [
        "from google.colab import drive\n",
        "drive.mount('/content/drive')"
      ]
    },
    {
      "cell_type": "code",
      "source": [
        "%cd /content/drive/MyDrive/"
      ],
      "metadata": {
        "colab": {
          "base_uri": "https://localhost:8080/"
        },
        "id": "lydNhi8NIKOL",
        "outputId": "510cc462-b531-4691-964f-d9069628919f"
      },
      "execution_count": 3,
      "outputs": [
        {
          "output_type": "stream",
          "name": "stdout",
          "text": [
            "/content/drive/MyDrive\n"
          ]
        }
      ]
    },
    {
      "cell_type": "code",
      "source": [
        "!pip install transformers"
      ],
      "metadata": {
        "colab": {
          "base_uri": "https://localhost:8080/"
        },
        "id": "tE-IFepwJZuy",
        "outputId": "d2065850-fc5a-494b-d9ec-7fffa2edb370"
      },
      "execution_count": 4,
      "outputs": [
        {
          "output_type": "stream",
          "name": "stdout",
          "text": [
            "Collecting transformers\n",
            "  Downloading transformers-4.15.0-py3-none-any.whl (3.4 MB)\n",
            "\u001b[K     |████████████████████████████████| 3.4 MB 7.3 MB/s \n",
            "\u001b[?25hRequirement already satisfied: regex!=2019.12.17 in /usr/local/lib/python3.7/dist-packages (from transformers) (2019.12.20)\n",
            "Collecting tokenizers<0.11,>=0.10.1\n",
            "  Downloading tokenizers-0.10.3-cp37-cp37m-manylinux_2_5_x86_64.manylinux1_x86_64.manylinux_2_12_x86_64.manylinux2010_x86_64.whl (3.3 MB)\n",
            "\u001b[K     |████████████████████████████████| 3.3 MB 71.2 MB/s \n",
            "\u001b[?25hRequirement already satisfied: tqdm>=4.27 in /usr/local/lib/python3.7/dist-packages (from transformers) (4.62.3)\n",
            "Requirement already satisfied: importlib-metadata in /usr/local/lib/python3.7/dist-packages (from transformers) (4.10.0)\n",
            "Requirement already satisfied: requests in /usr/local/lib/python3.7/dist-packages (from transformers) (2.23.0)\n",
            "Collecting pyyaml>=5.1\n",
            "  Downloading PyYAML-6.0-cp37-cp37m-manylinux_2_5_x86_64.manylinux1_x86_64.manylinux_2_12_x86_64.manylinux2010_x86_64.whl (596 kB)\n",
            "\u001b[K     |████████████████████████████████| 596 kB 91.8 MB/s \n",
            "\u001b[?25hCollecting sacremoses\n",
            "  Downloading sacremoses-0.0.47-py2.py3-none-any.whl (895 kB)\n",
            "\u001b[K     |████████████████████████████████| 895 kB 87.1 MB/s \n",
            "\u001b[?25hRequirement already satisfied: numpy>=1.17 in /usr/local/lib/python3.7/dist-packages (from transformers) (1.19.5)\n",
            "Requirement already satisfied: filelock in /usr/local/lib/python3.7/dist-packages (from transformers) (3.4.2)\n",
            "Collecting huggingface-hub<1.0,>=0.1.0\n",
            "  Downloading huggingface_hub-0.4.0-py3-none-any.whl (67 kB)\n",
            "\u001b[K     |████████████████████████████████| 67 kB 7.6 MB/s \n",
            "\u001b[?25hRequirement already satisfied: packaging>=20.0 in /usr/local/lib/python3.7/dist-packages (from transformers) (21.3)\n",
            "Requirement already satisfied: typing-extensions>=3.7.4.3 in /usr/local/lib/python3.7/dist-packages (from huggingface-hub<1.0,>=0.1.0->transformers) (3.10.0.2)\n",
            "Requirement already satisfied: pyparsing!=3.0.5,>=2.0.2 in /usr/local/lib/python3.7/dist-packages (from packaging>=20.0->transformers) (3.0.6)\n",
            "Requirement already satisfied: zipp>=0.5 in /usr/local/lib/python3.7/dist-packages (from importlib-metadata->transformers) (3.7.0)\n",
            "Requirement already satisfied: idna<3,>=2.5 in /usr/local/lib/python3.7/dist-packages (from requests->transformers) (2.10)\n",
            "Requirement already satisfied: chardet<4,>=3.0.2 in /usr/local/lib/python3.7/dist-packages (from requests->transformers) (3.0.4)\n",
            "Requirement already satisfied: certifi>=2017.4.17 in /usr/local/lib/python3.7/dist-packages (from requests->transformers) (2021.10.8)\n",
            "Requirement already satisfied: urllib3!=1.25.0,!=1.25.1,<1.26,>=1.21.1 in /usr/local/lib/python3.7/dist-packages (from requests->transformers) (1.24.3)\n",
            "Requirement already satisfied: joblib in /usr/local/lib/python3.7/dist-packages (from sacremoses->transformers) (1.1.0)\n",
            "Requirement already satisfied: click in /usr/local/lib/python3.7/dist-packages (from sacremoses->transformers) (7.1.2)\n",
            "Requirement already satisfied: six in /usr/local/lib/python3.7/dist-packages (from sacremoses->transformers) (1.15.0)\n",
            "Installing collected packages: pyyaml, tokenizers, sacremoses, huggingface-hub, transformers\n",
            "  Attempting uninstall: pyyaml\n",
            "    Found existing installation: PyYAML 3.13\n",
            "    Uninstalling PyYAML-3.13:\n",
            "      Successfully uninstalled PyYAML-3.13\n",
            "Successfully installed huggingface-hub-0.4.0 pyyaml-6.0 sacremoses-0.0.47 tokenizers-0.10.3 transformers-4.15.0\n"
          ]
        }
      ]
    },
    {
      "cell_type": "code",
      "source": [
        "!python /content/train_model_script.py --training_years 1980 1990 --method \"irm\" --testing_years 1980 1990 --data_dir 'sciERC_temporal' --epochs 1 --output_file 'test_erm_model_1990.csv'"
      ],
      "metadata": {
        "id": "wedC6v0pKViH",
        "colab": {
          "base_uri": "https://localhost:8080/"
        },
        "outputId": "d50bb275-2587-4c56-eaaa-6cb81aae60da"
      },
      "execution_count": 37,
      "outputs": [
        {
          "output_type": "stream",
          "name": "stdout",
          "text": [
            "Some weights of the model checkpoint at bert-base-cased were not used when initializing BertModel: ['cls.seq_relationship.bias', 'cls.predictions.bias', 'cls.predictions.decoder.weight', 'cls.predictions.transform.LayerNorm.weight', 'cls.predictions.transform.dense.weight', 'cls.seq_relationship.weight', 'cls.predictions.transform.dense.bias', 'cls.predictions.transform.LayerNorm.bias']\n",
            "- This IS expected if you are initializing BertModel from the checkpoint of a model trained on another task or with another architecture (e.g. initializing a BertForSequenceClassification model from a BertForPreTraining model).\n",
            "- This IS NOT expected if you are initializing BertModel from the checkpoint of a model that you expect to be exactly identical (initializing a BertForSequenceClassification model from a BertForSequenceClassification model).\n",
            "1980\n",
            "400\n",
            "1990\n",
            "600\n",
            "number of envs:  2\n",
            "Training Begins\n",
            "Method:  irm\n",
            "Information Bottleneck Penalty:  True\n",
            "Epoch:  0 , Number of Iterations:  200\n",
            "Steps: 1 | Training Loss: 2.099 |                             Training Accuracy: 0.000\n",
            "Steps: 41 | Training Loss: 1.833 |                             Training Accuracy: 0.213\n",
            "Steps: 81 | Training Loss: 1.817 |                             Training Accuracy: 0.229\n",
            "Steps: 121 | Training Loss: 1.815 |                             Training Accuracy: 0.229\n",
            "Steps: 161 | Training Loss: 1.796 |                             Training Accuracy: 0.239\n",
            "Epoch: 0 | Training Loss: 1.787 |                         Training Accuracy: 0.242\n",
            "1980\n",
            "Test Accuracy:  0.306\n",
            "1990\n",
            "Test Accuracy:  0.280\n",
            "all testing periods\n",
            "Test Accuracy:  0.244\n",
            "time:  2.06080592473348\n"
          ]
        }
      ]
    },
    {
      "cell_type": "code",
      "source": [
        "! python train_model_irm.py --training_years 1980 1990 --testing_years 1980 1990 --epochs 1 --data_dir 'sciERC_temporal' --output_file 'test_irm_1980.csv'"
      ],
      "metadata": {
        "id": "S5YG1y4woI9D",
        "colab": {
          "base_uri": "https://localhost:8080/"
        },
        "outputId": "d32c1129-66fe-4729-9c68-734ddc4ba93c"
      },
      "execution_count": 36,
      "outputs": [
        {
          "output_type": "stream",
          "name": "stdout",
          "text": [
            "python3: can't open file 'train_model_irm.py': [Errno 2] No such file or directory\n"
          ]
        }
      ]
    },
    {
      "cell_type": "code",
      "source": [
        "! python train_model_irm.py --training_years 1980 1990 --testing_years 1980 1990 --epochs 1 --l2_regularizer 0.1 --penalty_weight 50 --data_dir 'sciERC_temporal' --output_file 'test_irm_1980.csv'"
      ],
      "metadata": {
        "colab": {
          "base_uri": "https://localhost:8080/"
        },
        "id": "cgdcKJAku3kt",
        "outputId": "f84db61f-887f-40fa-ba15-1895c27b3ad1"
      },
      "execution_count": null,
      "outputs": [
        {
          "output_type": "stream",
          "name": "stdout",
          "text": [
            "Some weights of the model checkpoint at bert-base-cased were not used when initializing BertModel: ['cls.seq_relationship.bias', 'cls.seq_relationship.weight', 'cls.predictions.transform.dense.weight', 'cls.predictions.decoder.weight', 'cls.predictions.transform.dense.bias', 'cls.predictions.bias', 'cls.predictions.transform.LayerNorm.weight', 'cls.predictions.transform.LayerNorm.bias']\n",
            "- This IS expected if you are initializing BertModel from the checkpoint of a model trained on another task or with another architecture (e.g. initializing a BertForSequenceClassification model from a BertForPreTraining model).\n",
            "- This IS NOT expected if you are initializing BertModel from the checkpoint of a model that you expect to be exactly identical (initializing a BertForSequenceClassification model from a BertForSequenceClassification model).\n",
            "1980\n",
            "400\n",
            "1990\n",
            "600\n",
            "number of dataloaders:  2\n",
            "Epoch: 0 | Training Loss: 17465.994 | Training Accuracy: 0.196 | Val Loss: 0.889 | Val Accuracy: 0.215\n",
            "1980\n",
            "Test Accuracy:  0.226\n",
            "1990\n",
            "Test Accuracy:  0.195\n",
            "Test Accuracy:  0.203\n",
            "time:  1.9158728440602621\n"
          ]
        }
      ]
    },
    {
      "cell_type": "code",
      "source": [
        "! python train_model_irm.py --training_years 1980 1990 2000 --testing_years 1980 1990 2000 --epochs 2 --l2_regularizer 0.01 --penalty_weight 50 --data_dir 'sciERC_temporal' --output_file 'test_irm_1980.csv'"
      ],
      "metadata": {
        "colab": {
          "base_uri": "https://localhost:8080/"
        },
        "id": "3SiiHK_PQUpA",
        "outputId": "bf562bd9-4f27-425d-e550-1945c60d2eb2"
      },
      "execution_count": null,
      "outputs": [
        {
          "output_type": "stream",
          "name": "stdout",
          "text": [
            "Some weights of the model checkpoint at bert-base-cased were not used when initializing BertModel: ['cls.predictions.transform.dense.bias', 'cls.predictions.transform.LayerNorm.bias', 'cls.seq_relationship.weight', 'cls.predictions.transform.LayerNorm.weight', 'cls.predictions.transform.dense.weight', 'cls.predictions.decoder.weight', 'cls.seq_relationship.bias', 'cls.predictions.bias']\n",
            "- This IS expected if you are initializing BertModel from the checkpoint of a model trained on another task or with another architecture (e.g. initializing a BertForSequenceClassification model from a BertForPreTraining model).\n",
            "- This IS NOT expected if you are initializing BertModel from the checkpoint of a model that you expect to be exactly identical (initializing a BertForSequenceClassification model from a BertForSequenceClassification model).\n",
            "1980\n",
            "400\n",
            "1990\n",
            "600\n",
            "2000\n",
            "600\n",
            "number of dataloaders:  3\n",
            "Epoch: 0 | Training Loss: 1748.980 | Training Accuracy: 0.223 | Val Loss: 0.895 | Val Accuracy: 0.207\n",
            "Epoch: 1 | Training Loss: 1736.993 | Training Accuracy: 0.246 | Val Loss: 0.867 | Val Accuracy: 0.265\n",
            "1980\n",
            "Test Accuracy:  0.315\n",
            "1990\n",
            "Test Accuracy:  0.288\n",
            "2000\n",
            "Test Accuracy:  0.259\n",
            "all testing periods\n",
            "Test Accuracy:  0.260\n",
            "time:  5.447357320785523\n"
          ]
        }
      ]
    },
    {
      "cell_type": "code",
      "source": [
        ""
      ],
      "metadata": {
        "id": "On61yi_mRFZl"
      },
      "execution_count": null,
      "outputs": []
    }
  ]
}